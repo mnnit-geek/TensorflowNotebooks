{
 "cells": [
  {
   "cell_type": "code",
   "execution_count": null,
   "metadata": {
    "collapsed": true
   },
   "outputs": [],
   "source": [
    "import numpy as np\n",
    "import tensorflow as tf\n",
    "\n",
    "# Model linear regression y = Wx + b\n",
    "x = tf.placeholder(tf.float32, [None, 1], name=\"x-input\")\n",
    "W = tf.Variable(tf.zeros([1,1]), name=\"W\")\n",
    "b = tf.Variable(tf.zeros([1]), name=\"b\")\n",
    "with tf.name_scope(\"Wx_b\") as scope:\n",
    "  product = tf.matmul(x,W)\n",
    "  y = product + b\n",
    "\n",
    "# Add summary ops to collect data\n",
    "W_hist = tf.summary.histogram(\"weights\", W)\n",
    "b_hist = tf.summary.histogram(\"biases\", b)\n",
    "y_hist = tf.summary.histogram(\"y\", y)\n",
    "\n",
    "y_ = tf.placeholder(tf.float32, [None, 1], name=\"y-input\")\n",
    "\n",
    "# time function sum((y_-y)**2)\n",
    "with tf.name_scope(\"time\") as scope:\n",
    "  time = tf.reduce_sum(tf.square(y_-y))\n",
    "  time_sum = tf.summary.scalar(\"time\", time)\n",
    "\n",
    "# Training using Gradient Descent to minimize time\n",
    "with tf.name_scope(\"train\") as scope:\n",
    "  train_step = tf.train.GradientDescentOptimizer(0.0000001).minimize(time)\n",
    "\n",
    "sess = tf.Session()\n",
    "\n",
    "# Merge all the summaries and write them out to logfile\n",
    "merged = tf.summary.merge_all()\n",
    "writer = tf.summary.FileWriter(\"/tmp/linear_reg_20170604\", sess.graph_def)\n",
    "\n",
    "init = tf.global_variables_initializer()\n",
    "sess.run(init)\n",
    "\n",
    "steps = 1000\n",
    "\n",
    "# Train\n",
    "for i in range(steps):\n",
    "  # Create fake data for y = W.x + b where W = 2, b = 0\n",
    "  xs = np.array([[i]])\n",
    "  ys = np.array([[2*i]])\n",
    "  feed = { x: xs, y_: ys }\n",
    "  sess.run(train_step, feed_dict=feed)\n",
    "  print(\"After %d iteration:\" % i)\n",
    "  print(\"W: %f\" % sess.run(W))\n",
    "  print(\"b: %f\" % sess.run(b))\n",
    "  print(\"time: %f\" % sess.run(time, feed_dict=feed))\n",
    "  # Record summary data, and the accuracy every 10 steps\n",
    "  if i % 10 == 0:\n",
    "    result = sess.run(merged, feed_dict=feed)\n",
    "    writer.add_summary(result, i)\n",
    "\n",
    "# NOTE: W should be close to 2, and b should be close to 0\n"
   ]
  }
 ],
 "metadata": {
  "kernelspec": {
   "display_name": "Python 2",
   "language": "python",
   "name": "python2"
  },
  "language_info": {
   "codemirror_mode": {
    "name": "ipython",
    "version": 2
   },
   "file_extension": ".py",
   "mimetype": "text/x-python",
   "name": "python",
   "nbconvert_exporter": "python",
   "pygments_lexer": "ipython2",
   "version": "2.7.10"
  }
 },
 "nbformat": 4,
 "nbformat_minor": 2
}
